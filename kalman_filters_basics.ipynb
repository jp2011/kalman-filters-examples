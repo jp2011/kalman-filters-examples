{
  "nbformat": 4,
  "nbformat_minor": 0,
  "metadata": {
    "colab": {
      "provenance": [],
      "authorship_tag": "ABX9TyORac4sCR1hA703RzfA3uqL",
      "include_colab_link": true
    },
    "kernelspec": {
      "name": "python3",
      "display_name": "Python 3"
    },
    "language_info": {
      "name": "python"
    }
  },
  "cells": [
    {
      "cell_type": "markdown",
      "metadata": {
        "id": "view-in-github",
        "colab_type": "text"
      },
      "source": [
        "<a href=\"https://colab.research.google.com/github/jp2011/kalman-filters-examples/blob/main/kalman_filters_basics.ipynb\" target=\"_parent\"><img src=\"https://colab.research.google.com/assets/colab-badge.svg\" alt=\"Open In Colab\"/></a>"
      ]
    },
    {
      "cell_type": "markdown",
      "source": [
        "\n",
        "\n",
        "# Kalman Filter\n",
        "\n",
        "This is a detailed derivation of the filtering updates for the Kalman filter. The details follow closely the **Bayesian Filtering and Smoothing** book by *Simo Särkkä*.\n",
        "\n",
        "\n",
        "Note that all letters in the text refer to vectors or matrices rather than scalars, hence no boldface in the notation below.\n"
      ],
      "metadata": {
        "id": "tSN2XjXuzYm4"
      }
    },
    {
      "cell_type": "markdown",
      "source": [
        "## Preliminaries\n",
        "\n",
        "Before we proceed, we go through the derivation of some crucial properties of matrices and Gaussian random variables.\n",
        "\n",
        "\n",
        "\n",
        "\n",
        "### Inversion of a partitioned matrix\n",
        "\n",
        "Let $K$ be a invertible matrix partitioned as \n",
        "\\begin{equation}\n",
        "K = \\begin{pmatrix}\n",
        "    A & B\\\\\n",
        "    C & D\n",
        "    \\end{pmatrix}.\n",
        "\\end{equation}\n",
        "Its inverse is the given by\n",
        "\\begin{equation}\n",
        "    \\begin{pmatrix}\n",
        "    A & B\\\\\n",
        "    C & D\n",
        "    \\end{pmatrix}^{-1}\n",
        "    = \n",
        "    \\begin{pmatrix}\n",
        "    M         & - M B D^{-1}\\\\\n",
        "    -D^{-1}CM & D^{-1} + D^{-1} C M B D^{-1}\n",
        "    \\end{pmatrix},\n",
        "\\end{equation}\n",
        "where $M = (A - BD^{-1}C)^{-1}$.\n",
        "\n",
        "### Joint distribution of a conditioned Gaussian on another Gaussian.\n",
        "\n",
        "To derive the Kalman filter, we require several properties of Gaussian random variables.\n",
        "\n",
        "Let $x$ and $y$ be random variables with Gaussian distributions:\n",
        "\\begin{align} \n",
        "x        & \\sim \\mathcal{N}(m, P), \\\\\n",
        "y \\mid x & \\sim \\mathcal{N}(Hx + u, R).\n",
        "\\end{align}\n",
        "The joint distribution of $x$ and $y$ is given as\n",
        "\\begin{equation}\n",
        "\\left(\\begin{array}{l}\n",
        "x \\\\\n",
        "y\n",
        "\\end{array}\\right) \\sim \\mathcal{N}\\left(\\left(\\begin{array}{c}\n",
        "m \\\\\n",
        "H m+u\n",
        "\\end{array}\\right),\\left(\\begin{array}{cc}\n",
        "P & P H^{\\top} \\\\\n",
        "H P & H P H^{\\top}+R\n",
        "\\end{array}\\right)\\right)\n",
        "\\end{equation}\n",
        "#### Proof\n",
        "Let $p(x,y)$ be the joint density.\n",
        "\\begin{align}\n",
        "\\log p(x, y) & = \\log p(y \\mid x) + \\log p(x) \\\\\n",
        "             & = -\\frac{1}{2}(y - Hx - u)^\\top R^{-1}(y - Hx - u)\n",
        "                 -\\frac{1}{2}(x - m)^\\top P^{-1} (x - m) + \\text{const}\n",
        "\\end{align}\n",
        "This is a quadratic function of $x$ and $y$ so the joint distribution must be Gaussian. Considering the second-order terms we obtain:\n",
        "\\begin{align}\n",
        "& - \\frac{1}{2} y^\\top R^{-1} y - \\frac{1}{2}x^{\\top}\\big(H^\\top R^{-1} H + P^{-1}\\big)x + \\frac{1}{2} y^\\top R^{-1} H x + \\frac{1}{2} x^\\top H^\\top R^{-1} y \\\\\n",
        "& = -\\frac{1}{2} \\begin{pmatrix} x \\\\ y \\end{pmatrix} ^ \\top \n",
        "     \\begin{pmatrix}\n",
        "         H^\\top R^{-1} H + P^{-1}      & - H^\\top R^{-1} \\\\\n",
        "         -R^{-1}H                      & R^{-1}\n",
        "     \\end{pmatrix}\n",
        "     \\begin{pmatrix} x \\\\ y \\end{pmatrix},\n",
        "\\end{align}\n",
        "from where the covariance matrix given by\n",
        "\\begin{equation}\n",
        "     \\begin{pmatrix}\n",
        "         H^\\top R^{-1} H + P^{-1}      & - H^\\top R^{-1} \\\\\n",
        "         -R^{-1}H                      & R^{-1}\n",
        "     \\end{pmatrix} ^ {-1}\n",
        "     = \\begin{pmatrix}\n",
        "           P        & P H^\\top \\\\\n",
        "           H^\\top P & R + H P H^\\top\n",
        "       \\end{pmatrix}.\n",
        "\\end{equation}\n",
        "\n",
        "\n",
        "### Conditional distribution from a joint multivariate Gaussian\n",
        "\n"
      ],
      "metadata": {
        "id": "nFTafcAPeKHu"
      }
    },
    {
      "cell_type": "markdown",
      "source": [
        "## Linear Gaussian Model\n",
        "\n",
        "We have a time-evolving state process $x_k$ of which we observe a noisy version $y_k$ at time $k$. By assuming linear state transitions and Gaussian noise for both the process and the measurements the model is defined as follows:\n",
        "\\begin{align}\n",
        "x_k & = A_{k-1} x_{k-1} + q_{k-1}, \\\\\n",
        "y_K & = H_k x_k + r_k,\n",
        "\\end{align}\n",
        "where $A_{k}$, $H_k$, $Q_k$, and $R_k$ are given and \n",
        "\\begin{align}\n",
        "q_{k-1} & \\sim \\mathcal{N}(0, Q_{k-1}), \\\\\n",
        "r_{k}   & \\sim \\mathcal{N}(0, R_k),\n",
        "\\end{align}\n",
        "are the process and measurement noise, respectively."
      ],
      "metadata": {
        "id": "BuQByvyR6iY-"
      }
    },
    {
      "cell_type": "markdown",
      "source": [
        "### Filtering equations\n",
        "\n",
        "WIP, check back soon."
      ],
      "metadata": {
        "id": "EX_XtEsP9h1y"
      }
    },
    {
      "cell_type": "code",
      "source": [],
      "metadata": {
        "id": "dv99Ev6skmDd"
      },
      "execution_count": null,
      "outputs": []
    },
    {
      "cell_type": "markdown",
      "source": [
        "## Ensemble Kalman Filter\n",
        "\n",
        "\n",
        "\n"
      ],
      "metadata": {
        "id": "5T9yekmxknFA"
      }
    },
    {
      "cell_type": "code",
      "source": [
        "import numpy as np\n",
        "from scipy.stats import multivariate_normal\n",
        "import matplotlib.pyplot as plt\n",
        "\n",
        "\n",
        "\n",
        "class EnsembleKalmanFilter:\n",
        "\n",
        "  def __init__(self, *, state_ensemble=None, transition_model=None):\n",
        "\n",
        "    self.t = 0\n",
        "    self.num_ensemble=state_ensemble.shape[0]\n",
        "    self.d = state_ensemble.shape[1]\n",
        "\n",
        "    self.state_ensemble = state_ensemble\n",
        "    self.forecast_ensemble = np.zeros(self.state_ensemble.shape)\n",
        "    self.transition_model = transition_model\n",
        "\n",
        "  def get_mean(self):\n",
        "    return np.mean(self.state_ensemble, axis=0)\n",
        "\n",
        "  def get_cov(self):\n",
        "     return np.cov(self.state_ensemble.T)\n",
        "\n",
        "  def predict(self, model_error_cov_sqrt):\n",
        "    \n",
        "    for i in range(self.num_ensemble):\n",
        "      self.forecast_ensemble[i, :] = self.transition_model(self.state_ensemble[i, :]) + model_error_cov_sqrt @ np.random.normal(size=self.d)\n",
        "      self.t += 1\n",
        "\n",
        "  def update(self, y, obs_cov_sqrt, A_projection):\n",
        "\n",
        "    forecast_mean = np.mean(self.forecast_ensemble, axis=0)\n",
        "\n",
        "    sigma_k_sqrt = (1 / np.sqrt(self.num_ensemble - 1)) * (self.forecast_ensemble - forecast_mean[np.newaxis, :]).T\n",
        "\n",
        "    for i in range(self.num_ensemble):\n",
        "      y_sample = A_projection @ self.state_ensemble[i, :] + obs_cov_sqrt @ np.random.normal(size=y.shape[0])\n",
        "      temp = np.linalg.inv(A_projection @ sigma_k_sqrt @ sigma_k_sqrt.T @ A_projection.T + obs_cov_sqrt @ obs_cov_sqrt.T)\n",
        "      self.state_ensemble[i, :] = self.forecast_ensemble[i, :] + sigma_k_sqrt @ sigma_k_sqrt.T @ A_projection.T @ temp @ (y - y_sample) \n",
        "\n",
        "\n",
        "    \n",
        "def sample_p0(num_samples):\n",
        "  rv = multivariate_normal(mean=None, cov=[[1., 0.], [0., 1.]], allow_singular=False)\n",
        "  return rv.rvs(size=num_samples)\n",
        "\n",
        "\n",
        "def noisy_observations(noise_level=0.1):\n",
        "  return np.asarray([2, 2]) + multivariate_normal.rvs(cov=noise_level, size=2)\n",
        "\n",
        "def transition(state):\n",
        "  return state\n",
        "\n",
        "\n",
        "transition_cov = 1e-3 * np.asarray([[1, 0.95], [0.95, 1]])\n",
        "filter_example = EnsembleKalmanFilter(state_ensemble=sample_p0(50), transition_model=transition)\n",
        "\n",
        "# generate noisy measurements and get noise cov\n",
        "data = []\n",
        "means = []\n",
        "sds = []\n",
        "\n",
        "for n in range(200):\n",
        "  \n",
        "  means.append(filter_example.get_mean())\n",
        "  sds.append(np.diag(filter_example.get_cov()))\n",
        "  filter_example.predict(np.linalg.cholesky(transition_cov))\n",
        "\n",
        "  if n % 9 == 0:\n",
        "    \n",
        "    if n % 2 == 0:\n",
        "    \n",
        "      A_projection = np.asarray([[1., 0.]])\n",
        "      y = np.asarray([noisy_observations()[0]])\n",
        "      data.append([y, np.nan])\n",
        "    else:\n",
        "      A_projection = np.asarray([[0., 1.]])\n",
        "      y = np.asarray([noisy_observations()[1]])\n",
        "      data.append([np.nan, y])\n",
        "    obs_cov_sqrt = np.asarray([[1.]])\n",
        "    filter_example.update(y, obs_cov_sqrt, A_projection)\n",
        "  else:\n",
        "    data.append([np.nan, np.nan])\n",
        "\n",
        "print(filter_example.get_mean())\n",
        "print(filter_example.get_cov())\n",
        "\n",
        "means = np.asarray(means)\n",
        "sds = np.asarray(sds)\n",
        "data = np.asarray(data)"
      ],
      "metadata": {
        "colab": {
          "base_uri": "https://localhost:8080/"
        },
        "id": "TCYtpMGqkqhH",
        "outputId": "b20d8b6b-57ff-4eb5-ff65-af0d700af360"
      },
      "execution_count": 101,
      "outputs": [
        {
          "output_type": "stream",
          "name": "stdout",
          "text": [
            "[1.96376117 1.93804866]\n",
            "[[0.05707501 0.00877407]\n",
            " [0.00877407 0.1079881 ]]\n"
          ]
        },
        {
          "output_type": "stream",
          "name": "stderr",
          "text": [
            "/usr/local/lib/python3.7/dist-packages/ipykernel_launcher.py:92: VisibleDeprecationWarning: Creating an ndarray from ragged nested sequences (which is a list-or-tuple of lists-or-tuples-or ndarrays with different lengths or shapes) is deprecated. If you meant to do this, you must specify 'dtype=object' when creating the ndarray.\n"
          ]
        }
      ]
    },
    {
      "cell_type": "code",
      "source": [
        "fig, ax = plt.subplots(1, 2)\n",
        "\n",
        "ax[0].plot(means[:, 0])\n",
        "ax[0].plot(data[:, 0], marker='x')\n",
        "ax[0].fill_between(range(sds.shape[0]), (means[:, 0] - sds[:, 0]), (means[:, 0] + sds[:, 0]), color='b', alpha=.1)\n",
        "ax[0].set_title(\"Component 1\")\n",
        "\n",
        "ax[1].plot(means[:, 1])\n",
        "ax[1].plot(data[:, 1], marker='x')\n",
        "ax[1].fill_between(range(sds.shape[0]), (means[:, 1] - sds[:, 1]), (means[:, 1] + sds[:, 1]), color='b', alpha=.1)\n",
        "ax[1].set_title(\"Component 2\")\n",
        "\n",
        "plt.show()"
      ],
      "metadata": {
        "colab": {
          "base_uri": "https://localhost:8080/",
          "height": 281
        },
        "id": "siZhyPhWfv1X",
        "outputId": "d02c2e81-8581-474b-a622-ec914852b92d"
      },
      "execution_count": 99,
      "outputs": [
        {
          "output_type": "display_data",
          "data": {
            "text/plain": [
              "<Figure size 432x288 with 2 Axes>"
            ],
            "image/png": "[encoded data removed]"
          },
          "metadata": {
            "needs_background": "light"
          }
        }
      ]
    },
    {
      "cell_type": "code",
      "source": [],
      "metadata": {
        "id": "RDxYNaibFA3l"
      },
      "execution_count": 7,
      "outputs": []
    }
  ]
}