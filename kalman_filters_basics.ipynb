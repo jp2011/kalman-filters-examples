{
  "nbformat": 4,
  "nbformat_minor": 0,
  "metadata": {
    "colab": {
      "name": "kalman-filters-basics.ipynb",
      "provenance": [],
      "authorship_tag": "ABX9TyMB9FSdBpNqHc8VGEZ4OjrL"
    },
    "kernelspec": {
      "name": "python3",
      "display_name": "Python 3"
    },
    "language_info": {
      "name": "python"
    }
  },
  "cells": [
    {
      "cell_type": "code",
      "execution_count": 1,
      "metadata": {
        "id": "DkQFZdLyb_C3"
      },
      "outputs": [],
      "source": [
        "import numpy as np"
      ]
    },
    {
      "cell_type": "code",
      "source": [],
      "metadata": {
        "id": "TX7-Sxj2cFi8"
      },
      "execution_count": null,
      "outputs": []
    }
  ]
}